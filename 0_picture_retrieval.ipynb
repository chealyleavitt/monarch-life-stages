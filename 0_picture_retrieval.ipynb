{
 "cells": [
  {
   "cell_type": "code",
   "execution_count": 1,
   "id": "519312f3-ad66-4f7d-8bae-6c28d7485521",
   "metadata": {},
   "outputs": [],
   "source": [
    "import numpy as np\n",
    "import pandas as pd\n",
    "import scipy as sci\n",
    "import requests\n",
    "\n",
    "pd.set_option('display.max_colwidth', None)"
   ]
  },
  {
   "cell_type": "code",
   "execution_count": 2,
   "id": "a399df9e-2bac-441d-99f8-79c4a13f1d45",
   "metadata": {},
   "outputs": [],
   "source": [
    "data = pd.read_csv(\"data/observations-285599.csv\", low_memory = False)"
   ]
  },
  {
   "cell_type": "code",
   "execution_count": 3,
   "id": "70fd9eeb-1e2b-458d-afae-d87c152a5058",
   "metadata": {},
   "outputs": [],
   "source": [
    "# data.dtypes"
   ]
  },
  {
   "cell_type": "code",
   "execution_count": 4,
   "id": "994c537c-614c-42c1-9898-3bdad73ac1af",
   "metadata": {},
   "outputs": [
    {
     "data": {
      "text/html": [
       "<div>\n",
       "<style scoped>\n",
       "    .dataframe tbody tr th:only-of-type {\n",
       "        vertical-align: middle;\n",
       "    }\n",
       "\n",
       "    .dataframe tbody tr th {\n",
       "        vertical-align: top;\n",
       "    }\n",
       "\n",
       "    .dataframe thead th {\n",
       "        text-align: right;\n",
       "    }\n",
       "</style>\n",
       "<table border=\"1\" class=\"dataframe\">\n",
       "  <thead>\n",
       "    <tr style=\"text-align: right;\">\n",
       "      <th></th>\n",
       "      <th>id</th>\n",
       "      <th>observed_on_string</th>\n",
       "      <th>observed_on</th>\n",
       "      <th>time_observed_at</th>\n",
       "      <th>time_zone</th>\n",
       "      <th>user_id</th>\n",
       "      <th>user_login</th>\n",
       "      <th>user_name</th>\n",
       "      <th>created_at</th>\n",
       "      <th>updated_at</th>\n",
       "      <th>...</th>\n",
       "      <th>geoprivacy</th>\n",
       "      <th>taxon_geoprivacy</th>\n",
       "      <th>coordinates_obscured</th>\n",
       "      <th>positioning_method</th>\n",
       "      <th>positioning_device</th>\n",
       "      <th>species_guess</th>\n",
       "      <th>scientific_name</th>\n",
       "      <th>common_name</th>\n",
       "      <th>iconic_taxon_name</th>\n",
       "      <th>taxon_id</th>\n",
       "    </tr>\n",
       "  </thead>\n",
       "  <tbody>\n",
       "    <tr>\n",
       "      <th>0</th>\n",
       "      <td>1050922</td>\n",
       "      <td>25 de octubre</td>\n",
       "      <td>2019-01-28</td>\n",
       "      <td>2019-01-28 07:00:00 UTC</td>\n",
       "      <td>Mexico City</td>\n",
       "      <td>61961</td>\n",
       "      <td>yossari-martinez-campos14</td>\n",
       "      <td>NaN</td>\n",
       "      <td>2014-11-02 04:16:24 UTC</td>\n",
       "      <td>2021-11-06 00:32:16 UTC</td>\n",
       "      <td>...</td>\n",
       "      <td>NaN</td>\n",
       "      <td>open</td>\n",
       "      <td>False</td>\n",
       "      <td>NaN</td>\n",
       "      <td>NaN</td>\n",
       "      <td>Mariposa Monarca</td>\n",
       "      <td>Danaus plexippus plexippus</td>\n",
       "      <td>Migratory Monarch</td>\n",
       "      <td>Insecta</td>\n",
       "      <td>235550</td>\n",
       "    </tr>\n",
       "    <tr>\n",
       "      <th>1</th>\n",
       "      <td>8831709</td>\n",
       "      <td>Sun Jun 10 2018 14:18:01 GMT-0500 (CDT)</td>\n",
       "      <td>2018-06-10</td>\n",
       "      <td>2018-06-10 19:18:01 UTC</td>\n",
       "      <td>Central Time (US &amp; Canada)</td>\n",
       "      <td>448031</td>\n",
       "      <td>miguelvazquezsanchez</td>\n",
       "      <td>Miguel Vázquez Sánchez</td>\n",
       "      <td>2017-11-16 22:40:41 UTC</td>\n",
       "      <td>2021-11-07 00:33:32 UTC</td>\n",
       "      <td>...</td>\n",
       "      <td>NaN</td>\n",
       "      <td>open</td>\n",
       "      <td>False</td>\n",
       "      <td>NaN</td>\n",
       "      <td>NaN</td>\n",
       "      <td>Mariposa Monarca</td>\n",
       "      <td>Danaus plexippus</td>\n",
       "      <td>Monarch</td>\n",
       "      <td>Insecta</td>\n",
       "      <td>48662</td>\n",
       "    </tr>\n",
       "    <tr>\n",
       "      <th>2</th>\n",
       "      <td>9336768</td>\n",
       "      <td>2018/01/01 12:01 PM PST</td>\n",
       "      <td>2018-01-01</td>\n",
       "      <td>2018-01-01 20:01:00 UTC</td>\n",
       "      <td>Pacific Time (US &amp; Canada)</td>\n",
       "      <td>34588</td>\n",
       "      <td>joemiller</td>\n",
       "      <td>Joe Miller</td>\n",
       "      <td>2018-01-01 22:05:41 UTC</td>\n",
       "      <td>2021-11-07 01:34:38 UTC</td>\n",
       "      <td>...</td>\n",
       "      <td>NaN</td>\n",
       "      <td>NaN</td>\n",
       "      <td>False</td>\n",
       "      <td>NaN</td>\n",
       "      <td>NaN</td>\n",
       "      <td>Monarch</td>\n",
       "      <td>Danaus plexippus</td>\n",
       "      <td>Monarch</td>\n",
       "      <td>Insecta</td>\n",
       "      <td>48662</td>\n",
       "    </tr>\n",
       "    <tr>\n",
       "      <th>3</th>\n",
       "      <td>9337140</td>\n",
       "      <td>Mon Jan 01 2018 11:59:22 GMT-0800 (PST)</td>\n",
       "      <td>2018-01-01</td>\n",
       "      <td>2018-01-01 19:59:22 UTC</td>\n",
       "      <td>Pacific Time (US &amp; Canada)</td>\n",
       "      <td>691872</td>\n",
       "      <td>daratheexplorer</td>\n",
       "      <td>NaN</td>\n",
       "      <td>2018-01-01 22:31:12 UTC</td>\n",
       "      <td>2021-11-18 08:19:48 UTC</td>\n",
       "      <td>...</td>\n",
       "      <td>NaN</td>\n",
       "      <td>NaN</td>\n",
       "      <td>False</td>\n",
       "      <td>NaN</td>\n",
       "      <td>NaN</td>\n",
       "      <td>Monarch</td>\n",
       "      <td>Danaus plexippus</td>\n",
       "      <td>Monarch</td>\n",
       "      <td>Insecta</td>\n",
       "      <td>48662</td>\n",
       "    </tr>\n",
       "    <tr>\n",
       "      <th>4</th>\n",
       "      <td>9356967</td>\n",
       "      <td>Thu Jan 04 2018 09:23:49 GMT+1300 (GMT+13)</td>\n",
       "      <td>2018-01-04</td>\n",
       "      <td>2018-01-03 20:23:49 UTC</td>\n",
       "      <td>Nuku'alofa</td>\n",
       "      <td>121474</td>\n",
       "      <td>johnflower</td>\n",
       "      <td>John Flower</td>\n",
       "      <td>2018-01-03 20:25:32 UTC</td>\n",
       "      <td>2021-11-07 01:35:54 UTC</td>\n",
       "      <td>...</td>\n",
       "      <td>NaN</td>\n",
       "      <td>NaN</td>\n",
       "      <td>False</td>\n",
       "      <td>NaN</td>\n",
       "      <td>NaN</td>\n",
       "      <td>Monarch</td>\n",
       "      <td>Danaus plexippus</td>\n",
       "      <td>Monarch</td>\n",
       "      <td>Insecta</td>\n",
       "      <td>48662</td>\n",
       "    </tr>\n",
       "  </tbody>\n",
       "</table>\n",
       "<p>5 rows × 39 columns</p>\n",
       "</div>"
      ],
      "text/plain": [
       "        id                          observed_on_string observed_on  \\\n",
       "0  1050922                               25 de octubre  2019-01-28   \n",
       "1  8831709     Sun Jun 10 2018 14:18:01 GMT-0500 (CDT)  2018-06-10   \n",
       "2  9336768                     2018/01/01 12:01 PM PST  2018-01-01   \n",
       "3  9337140     Mon Jan 01 2018 11:59:22 GMT-0800 (PST)  2018-01-01   \n",
       "4  9356967  Thu Jan 04 2018 09:23:49 GMT+1300 (GMT+13)  2018-01-04   \n",
       "\n",
       "          time_observed_at                   time_zone  user_id  \\\n",
       "0  2019-01-28 07:00:00 UTC                 Mexico City    61961   \n",
       "1  2018-06-10 19:18:01 UTC  Central Time (US & Canada)   448031   \n",
       "2  2018-01-01 20:01:00 UTC  Pacific Time (US & Canada)    34588   \n",
       "3  2018-01-01 19:59:22 UTC  Pacific Time (US & Canada)   691872   \n",
       "4  2018-01-03 20:23:49 UTC                  Nuku'alofa   121474   \n",
       "\n",
       "                  user_login               user_name               created_at  \\\n",
       "0  yossari-martinez-campos14                     NaN  2014-11-02 04:16:24 UTC   \n",
       "1       miguelvazquezsanchez  Miguel Vázquez Sánchez  2017-11-16 22:40:41 UTC   \n",
       "2                  joemiller              Joe Miller  2018-01-01 22:05:41 UTC   \n",
       "3            daratheexplorer                     NaN  2018-01-01 22:31:12 UTC   \n",
       "4                 johnflower             John Flower  2018-01-03 20:25:32 UTC   \n",
       "\n",
       "                updated_at  ... geoprivacy taxon_geoprivacy  \\\n",
       "0  2021-11-06 00:32:16 UTC  ...        NaN             open   \n",
       "1  2021-11-07 00:33:32 UTC  ...        NaN             open   \n",
       "2  2021-11-07 01:34:38 UTC  ...        NaN              NaN   \n",
       "3  2021-11-18 08:19:48 UTC  ...        NaN              NaN   \n",
       "4  2021-11-07 01:35:54 UTC  ...        NaN              NaN   \n",
       "\n",
       "  coordinates_obscured positioning_method positioning_device  \\\n",
       "0                False                NaN                NaN   \n",
       "1                False                NaN                NaN   \n",
       "2                False                NaN                NaN   \n",
       "3                False                NaN                NaN   \n",
       "4                False                NaN                NaN   \n",
       "\n",
       "      species_guess             scientific_name        common_name  \\\n",
       "0  Mariposa Monarca  Danaus plexippus plexippus  Migratory Monarch   \n",
       "1  Mariposa Monarca            Danaus plexippus            Monarch   \n",
       "2           Monarch            Danaus plexippus            Monarch   \n",
       "3           Monarch            Danaus plexippus            Monarch   \n",
       "4           Monarch            Danaus plexippus            Monarch   \n",
       "\n",
       "   iconic_taxon_name  taxon_id  \n",
       "0            Insecta    235550  \n",
       "1            Insecta     48662  \n",
       "2            Insecta     48662  \n",
       "3            Insecta     48662  \n",
       "4            Insecta     48662  \n",
       "\n",
       "[5 rows x 39 columns]"
      ]
     },
     "execution_count": 4,
     "metadata": {},
     "output_type": "execute_result"
    }
   ],
   "source": [
    "data.head()"
   ]
  },
  {
   "cell_type": "code",
   "execution_count": 5,
   "id": "b632e9da-4588-4701-ad7d-cef81b23f478",
   "metadata": {},
   "outputs": [
    {
     "data": {
      "text/plain": [
       "Index(['id', 'observed_on_string', 'observed_on', 'time_observed_at',\n",
       "       'time_zone', 'user_id', 'user_login', 'user_name', 'created_at',\n",
       "       'updated_at', 'quality_grade', 'license', 'url', 'image_url',\n",
       "       'sound_url', 'tag_list', 'description', 'num_identification_agreements',\n",
       "       'num_identification_disagreements', 'captive_cultivated',\n",
       "       'oauth_application_id', 'place_guess', 'latitude', 'longitude',\n",
       "       'positional_accuracy', 'private_place_guess', 'private_latitude',\n",
       "       'private_longitude', 'public_positional_accuracy', 'geoprivacy',\n",
       "       'taxon_geoprivacy', 'coordinates_obscured', 'positioning_method',\n",
       "       'positioning_device', 'species_guess', 'scientific_name', 'common_name',\n",
       "       'iconic_taxon_name', 'taxon_id'],\n",
       "      dtype='object')"
      ]
     },
     "execution_count": 5,
     "metadata": {},
     "output_type": "execute_result"
    }
   ],
   "source": [
    "data.columns"
   ]
  },
  {
   "cell_type": "code",
   "execution_count": 6,
   "id": "265729cf-a6dd-46be-a031-284fca5ca558",
   "metadata": {},
   "outputs": [],
   "source": [
    "# data.species_guess.unique()"
   ]
  },
  {
   "cell_type": "code",
   "execution_count": 7,
   "id": "a6877b33-bc4f-41dd-8590-3742744e5d00",
   "metadata": {},
   "outputs": [],
   "source": [
    "# data.common_name.unique()"
   ]
  },
  {
   "cell_type": "code",
   "execution_count": 8,
   "id": "4840a3c3-ee7b-42e4-b812-02745a117b86",
   "metadata": {},
   "outputs": [
    {
     "data": {
      "text/plain": [
       "180855"
      ]
     },
     "execution_count": 8,
     "metadata": {},
     "output_type": "execute_result"
    }
   ],
   "source": [
    "len(data[data.common_name=='Monarch'])"
   ]
  },
  {
   "cell_type": "code",
   "execution_count": 9,
   "id": "dc995b22-65be-4b74-909e-e216e5b34d21",
   "metadata": {},
   "outputs": [
    {
     "data": {
      "text/plain": [
       "62845"
      ]
     },
     "execution_count": 9,
     "metadata": {},
     "output_type": "execute_result"
    }
   ],
   "source": [
    "data['user_id'].nunique()"
   ]
  },
  {
   "cell_type": "code",
   "execution_count": 10,
   "id": "5eff15c7-22e3-43f0-824f-be18234ef5a1",
   "metadata": {},
   "outputs": [
    {
     "data": {
      "text/plain": [
       "(183264, 39)"
      ]
     },
     "execution_count": 10,
     "metadata": {},
     "output_type": "execute_result"
    }
   ],
   "source": [
    "data.shape"
   ]
  },
  {
   "cell_type": "code",
   "execution_count": 11,
   "id": "72ec429d-9816-471b-b522-81b8a9f9190a",
   "metadata": {},
   "outputs": [
    {
     "data": {
      "text/plain": [
       "10     https://inaturalist-open-data.s3.amazonaws.com/photos/12724602/medium.jpg\n",
       "11                     https://static.inaturalist.org/photos/12734353/medium.jpg\n",
       "12                     https://static.inaturalist.org/photos/12749275/medium.jpg\n",
       "13                     https://static.inaturalist.org/photos/12752953/medium.jpg\n",
       "14    https://inaturalist-open-data.s3.amazonaws.com/photos/12753556/medium.jpeg\n",
       "15                    https://static.inaturalist.org/photos/12767334/medium.jpeg\n",
       "16     https://inaturalist-open-data.s3.amazonaws.com/photos/12770846/medium.jpg\n",
       "Name: image_url, dtype: object"
      ]
     },
     "execution_count": 11,
     "metadata": {},
     "output_type": "execute_result"
    }
   ],
   "source": [
    "data.loc[10:16,'image_url']"
   ]
  },
  {
   "cell_type": "code",
   "execution_count": 12,
   "id": "d3cd6b90-5133-4dc4-bc3e-cf298ccef56c",
   "metadata": {},
   "outputs": [],
   "source": [
    "# Download the first 10,000 photos\n",
    "\n",
    "# for _id in data['id'][0:10000]:\n",
    "    \n",
    "#     img_url = data.query(f'id == {_id}')['image_url'].item()\n",
    "#     response = requests.get(img_url)\n",
    "    \n",
    "#     if response.status_code == 200:\n",
    "#         img_data = response.content\n",
    "#         with open(f'data/images/{_id}.jpg', 'wb') as f:\n",
    "#             f.write(img_data)\n",
    "#             f.close\n",
    "#     else:\n",
    "#         print(f'Response: {response.status_code}, id: {_id}')"
   ]
  },
  {
   "cell_type": "code",
   "execution_count": 13,
   "id": "3fd37a54-8b3e-48d3-8290-88176c6a1f3f",
   "metadata": {},
   "outputs": [
    {
     "name": "stdout",
     "output_type": "stream",
     "text": [
      "5186\n"
     ]
    }
   ],
   "source": [
    "import os\n",
    "\n",
    "lst = os.listdir('data/images/') # your directory path\n",
    "number_files = len(lst)\n",
    "print(number_files)\n",
    "num_id = 10000-number_files"
   ]
  },
  {
   "cell_type": "code",
   "execution_count": 18,
   "id": "2e6b128b-630b-4304-8777-583429b456c8",
   "metadata": {},
   "outputs": [],
   "source": [
    "predict_ids = data[data['observed_on'].str.startswith('2019')]['id']"
   ]
  },
  {
   "cell_type": "code",
   "execution_count": 19,
   "id": "0d867255-767a-4574-958c-5ae983a01d81",
   "metadata": {},
   "outputs": [
    {
     "data": {
      "text/plain": [
       "32006"
      ]
     },
     "execution_count": 19,
     "metadata": {},
     "output_type": "execute_result"
    }
   ],
   "source": [
    "len(predict_ids)"
   ]
  },
  {
   "cell_type": "code",
   "execution_count": 21,
   "id": "b30d5de1-8358-4918-90ab-fcb89a2958c7",
   "metadata": {},
   "outputs": [],
   "source": [
    "# Download all photos from 2019\n",
    "predict_data = data[data['observed_on'].str.startswith('2019')]\n",
    "\n",
    "for _id in predict_data['id']:\n",
    "    \n",
    "    img_url = data.query(f'id == {_id}')['image_url'].item()\n",
    "    response = requests.get(img_url)\n",
    "    \n",
    "    if response.status_code == 200:\n",
    "        img_data = response.content\n",
    "        with open(f'data/predict_data/{_id}.jpg', 'wb') as f:\n",
    "            f.write(img_data)\n",
    "            f.close\n",
    "    else:\n",
    "        print(f'Response: {response.status_code}, id: {_id}')"
   ]
  },
  {
   "cell_type": "code",
   "execution_count": null,
   "id": "6e3e697c-174b-4e04-b3db-48257e5161c8",
   "metadata": {},
   "outputs": [],
   "source": []
  }
 ],
 "metadata": {
  "kernelspec": {
   "display_name": "Python 3 (ipykernel)",
   "language": "python",
   "name": "python3"
  },
  "language_info": {
   "codemirror_mode": {
    "name": "ipython",
    "version": 3
   },
   "file_extension": ".py",
   "mimetype": "text/x-python",
   "name": "python",
   "nbconvert_exporter": "python",
   "pygments_lexer": "ipython3",
   "version": "3.10.8"
  }
 },
 "nbformat": 4,
 "nbformat_minor": 5
}
